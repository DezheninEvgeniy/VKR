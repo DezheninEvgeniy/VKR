{
 "cells": [
  {
   "cell_type": "code",
   "execution_count": 1,
   "id": "19844c69",
   "metadata": {},
   "outputs": [],
   "source": [
    "import numpy as np\n",
    "import tensorflow as tf\n",
    "from tensorflow import keras\n",
    "from flask import Flask, request, render_template\n",
    "from keras.models import Sequential\n",
    "from tensorflow.keras import layers\n",
    "from keras.layers import Dense, Activation\n",
    "from sklearn.metrics import accuracy_score"
   ]
  },
  {
   "cell_type": "code",
   "execution_count": 2,
   "id": "e24b3dff",
   "metadata": {},
   "outputs": [],
   "source": [
    "app = Flask(__name__)"
   ]
  },
  {
   "cell_type": "code",
   "execution_count": 3,
   "id": "0be09815",
   "metadata": {},
   "outputs": [],
   "source": [
    "\n",
    "\n",
    "def params(param1, param2, param3, param4, param5, param6, param7, param8, param9, param10, param11, param12):\n",
    "\n",
    "    model = keras.models.load_model(\"keras_model\")\n",
    "    prediction = model.predict([param1, param2, param3, param4, param5, param6, param7, param8, param9, param10, param11, param12])\n",
    "\n",
    "    return prediction[0][0]"
   ]
  },
  {
   "cell_type": "code",
   "execution_count": 4,
   "id": "e52d8aed",
   "metadata": {},
   "outputs": [
    {
     "name": "stdout",
     "output_type": "stream",
     "text": [
      " * Serving Flask app '__main__'\n",
      " * Debug mode: off\n"
     ]
    },
    {
     "name": "stderr",
     "output_type": "stream",
     "text": [
      "WARNING: This is a development server. Do not use it in a production deployment. Use a production WSGI server instead.\n",
      " * Running on http://127.0.0.1:5000\n",
      "Press CTRL+C to quit\n",
      "127.0.0.1 - - [01/Nov/2022 09:26:05] \"GET / HTTP/1.1\" 200 -\n",
      "127.0.0.1 - - [01/Nov/2022 09:26:05] \"GET /css/normalize.css HTTP/1.1\" 404 -\n",
      "127.0.0.1 - - [01/Nov/2022 09:26:05] \"GET /css/style.css HTTP/1.1\" 404 -\n",
      "127.0.0.1 - - [01/Nov/2022 09:26:05] \"GET / HTTP/1.1\" 200 -\n",
      "127.0.0.1 - - [01/Nov/2022 09:26:05] \"GET /css/style.css HTTP/1.1\" 404 -\n",
      "127.0.0.1 - - [01/Nov/2022 09:26:05] \"GET /css/normalize.css HTTP/1.1\" 404 -\n"
     ]
    },
    {
     "name": "stdout",
     "output_type": "stream",
     "text": [
      "WARNING:tensorflow:Model was constructed with shape (None, None) for input KerasTensor(type_spec=TensorSpec(shape=(None, None), dtype=tf.float32, name='normalization_2_input'), name='normalization_2_input', description=\"created by layer 'normalization_2_input'\"), but it was called on an input with incompatible shape (None,).\n",
      "1/1 [==============================] - 0s 88ms/step\n"
     ]
    },
    {
     "name": "stderr",
     "output_type": "stream",
     "text": [
      "127.0.0.1 - - [01/Nov/2022 09:26:23] \"POST / HTTP/1.1\" 200 -\n",
      "127.0.0.1 - - [01/Nov/2022 09:26:23] \"GET /css/normalize.css HTTP/1.1\" 404 -\n",
      "127.0.0.1 - - [01/Nov/2022 09:26:23] \"GET /css/style.css HTTP/1.1\" 404 -\n"
     ]
    }
   ],
   "source": [
    "@app.route('/', methods=['post', 'get'])\n",
    "\n",
    "def calc():\n",
    "    param_lst = []\n",
    "    message = ''\n",
    "    if request.method == 'POST':\n",
    "        \n",
    "        for i in range(1,13,1):\n",
    "            param = request.form.get(f'param{i}')\n",
    "            param_lst.append(float(param))\n",
    "            \n",
    "        message = params(*param_lst)\n",
    "\n",
    "   \n",
    "    return render_template('my.html', message=message) \n",
    "\n",
    "app.run()"
   ]
  }
 ],
 "metadata": {
  "kernelspec": {
   "display_name": "Python 3.9.10 64-bit",
   "language": "python",
   "name": "python3"
  },
  "language_info": {
   "codemirror_mode": {
    "name": "ipython",
    "version": 3
   },
   "file_extension": ".py",
   "mimetype": "text/x-python",
   "name": "python",
   "nbconvert_exporter": "python",
   "pygments_lexer": "ipython3",
   "version": "3.9.10"
  },
  "vscode": {
   "interpreter": {
    "hash": "316a2efbad2291deca45afabf663fd4214a7707bedbe41b6b5eb774ede5fb382"
   }
  }
 },
 "nbformat": 4,
 "nbformat_minor": 5
}
